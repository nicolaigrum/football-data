{
 "cells": [
  {
   "cell_type": "code",
   "execution_count": 30,
   "metadata": {},
   "outputs": [],
   "source": [
    "import pandas as pd\n",
    "import numpy as np\n",
    "import matplotlib.pyplot as plt\n",
    "from matplotlib.patches import Arc\n",
    "\n",
    "%matplotlib inline"
   ]
  },
  {
   "cell_type": "code",
   "execution_count": 36,
   "metadata": {},
   "outputs": [
    {
     "data": {
      "text/html": [
       "<div>\n",
       "<style scoped>\n",
       "    .dataframe tbody tr th:only-of-type {\n",
       "        vertical-align: middle;\n",
       "    }\n",
       "\n",
       "    .dataframe tbody tr th {\n",
       "        vertical-align: top;\n",
       "    }\n",
       "\n",
       "    .dataframe thead th {\n",
       "        text-align: right;\n",
       "    }\n",
       "</style>\n",
       "<table border=\"1\" class=\"dataframe\">\n",
       "  <thead>\n",
       "    <tr style=\"text-align: right;\">\n",
       "      <th></th>\n",
       "      <th>team</th>\n",
       "      <th>half</th>\n",
       "      <th>min</th>\n",
       "      <th>x_origin</th>\n",
       "      <th>y_origin</th>\n",
       "      <th>x_destination</th>\n",
       "      <th>y_destination</th>\n",
       "      <th>outcome</th>\n",
       "    </tr>\n",
       "  </thead>\n",
       "  <tbody>\n",
       "    <tr>\n",
       "      <th>0</th>\n",
       "      <td>Silkeborg IF</td>\n",
       "      <td>1</td>\n",
       "      <td>0</td>\n",
       "      <td>52.500</td>\n",
       "      <td>33.932</td>\n",
       "      <td>49.665</td>\n",
       "      <td>34.340</td>\n",
       "      <td>1</td>\n",
       "    </tr>\n",
       "    <tr>\n",
       "      <th>1</th>\n",
       "      <td>Silkeborg IF</td>\n",
       "      <td>1</td>\n",
       "      <td>0</td>\n",
       "      <td>49.560</td>\n",
       "      <td>33.932</td>\n",
       "      <td>44.520</td>\n",
       "      <td>24.480</td>\n",
       "      <td>1</td>\n",
       "    </tr>\n",
       "    <tr>\n",
       "      <th>2</th>\n",
       "      <td>Silkeborg IF</td>\n",
       "      <td>1</td>\n",
       "      <td>0</td>\n",
       "      <td>44.100</td>\n",
       "      <td>19.584</td>\n",
       "      <td>47.250</td>\n",
       "      <td>2.924</td>\n",
       "      <td>1</td>\n",
       "    </tr>\n",
       "    <tr>\n",
       "      <th>3</th>\n",
       "      <td>Silkeborg IF</td>\n",
       "      <td>1</td>\n",
       "      <td>0</td>\n",
       "      <td>42.000</td>\n",
       "      <td>5.100</td>\n",
       "      <td>26.775</td>\n",
       "      <td>14.688</td>\n",
       "      <td>1</td>\n",
       "    </tr>\n",
       "    <tr>\n",
       "      <th>4</th>\n",
       "      <td>Silkeborg IF</td>\n",
       "      <td>1</td>\n",
       "      <td>0</td>\n",
       "      <td>23.835</td>\n",
       "      <td>17.068</td>\n",
       "      <td>8.190</td>\n",
       "      <td>32.164</td>\n",
       "      <td>1</td>\n",
       "    </tr>\n",
       "  </tbody>\n",
       "</table>\n",
       "</div>"
      ],
      "text/plain": [
       "           team  half  min  x_origin  y_origin  x_destination  y_destination  \\\n",
       "0  Silkeborg IF     1    0    52.500    33.932         49.665         34.340   \n",
       "1  Silkeborg IF     1    0    49.560    33.932         44.520         24.480   \n",
       "2  Silkeborg IF     1    0    44.100    19.584         47.250          2.924   \n",
       "3  Silkeborg IF     1    0    42.000     5.100         26.775         14.688   \n",
       "4  Silkeborg IF     1    0    23.835    17.068          8.190         32.164   \n",
       "\n",
       "   outcome  \n",
       "0        1  \n",
       "1        1  \n",
       "2        1  \n",
       "3        1  \n",
       "4        1  "
      ]
     },
     "execution_count": 36,
     "metadata": {},
     "output_type": "execute_result"
    }
   ],
   "source": [
    "data = pd.read_csv(\"pass_data.csv\")\n",
    "\n",
    "data.head()"
   ]
  },
  {
   "cell_type": "code",
   "execution_count": 37,
   "metadata": {
    "scrolled": true
   },
   "outputs": [
    {
     "name": "stdout",
     "output_type": "stream",
     "text": [
      "            team  half  min  x_origin  y_origin  x_destination  y_destination  \\\n",
      "75  FC København     1    5    56.700    23.052         78.015         16.320   \n",
      "76  FC København     1    5    78.015    16.524         69.720         23.324   \n",
      "77  FC København     1    5    69.825    24.548         71.400         36.720   \n",
      "78  FC København     1    5    71.400    38.352         97.545         47.804   \n",
      "79  FC København     1    5   100.170    55.080        100.380         37.400   \n",
      "\n",
      "    outcome  \n",
      "75        1  \n",
      "76        1  \n",
      "77        1  \n",
      "78        1  \n",
      "79        1  \n"
     ]
    }
   ],
   "source": [
    "#Filter 1\n",
    "\n",
    "dataF = data[\n",
    "    (data.team == 'FC København') &\n",
    "    (data.index >= 75) &\n",
    "    (data.index <= 79)\n",
    "]\n",
    "\n",
    "print(dataF)"
   ]
  },
  {
   "cell_type": "code",
   "execution_count": 38,
   "metadata": {},
   "outputs": [
    {
     "name": "stdout",
     "output_type": "stream",
     "text": [
      "   index          team  half  min  x_origin  y_origin  x_destination  \\\n",
      "0     75  FC København     1    5    56.700    23.052         78.015   \n",
      "1     76  FC København     1    5    78.015    16.524         69.720   \n",
      "2     77  FC København     1    5    69.825    24.548         71.400   \n",
      "3     78  FC København     1    5    71.400    38.352         97.545   \n",
      "4     79  FC København     1    5   100.170    55.080        100.380   \n",
      "\n",
      "   y_destination  outcome  \n",
      "0         16.320        1  \n",
      "1         23.324        1  \n",
      "2         36.720        1  \n",
      "3         47.804        1  \n",
      "4         37.400        1  \n"
     ]
    }
   ],
   "source": [
    "#CHOOSE WHAT DATA IS\n",
    "data = dataF\n",
    "data = data.reset_index()\n",
    "data.head()\n",
    "print(data)"
   ]
  },
  {
   "cell_type": "code",
   "execution_count": 39,
   "metadata": {
    "scrolled": false
   },
   "outputs": [
    {
     "data": {
      "image/png": "[encoded data removed]",
      "text/plain": [
       "<matplotlib.figure.Figure at 0x11814dc18>"
      ]
     },
     "metadata": {},
     "output_type": "display_data"
    }
   ],
   "source": [
    "#Create figure\n",
    "fig=plt.figure()\n",
    "fig.set_size_inches(7, 5)\n",
    "ax=fig.add_subplot(1,1,1)\n",
    "\n",
    "#Pitch Outline & Centre Line\n",
    "plt.plot([0,0],[0,68], color=\"black\")\n",
    "plt.plot([0,105],[68,68], color=\"black\")\n",
    "plt.plot([105,105],[68,0], color=\"black\")\n",
    "plt.plot([105,0],[0,0], color=\"black\")\n",
    "plt.plot([52.5,52.5],[0,68], color=\"black\")\n",
    "\n",
    "#Left Penalty Area\n",
    "plt.plot([16.5,16.5],[13.85,54.15],color=\"black\")\n",
    "plt.plot([0,16.5],[13.85,13.85],color=\"black\")\n",
    "plt.plot([16.5,0],[54.15,54.15],color=\"black\")\n",
    "\n",
    "#Right Penalty Area\n",
    "plt.plot([88.5,88.5],[13.85,54.15],color=\"black\")\n",
    "plt.plot([105,88.5],[13.85,13.85],color=\"black\")\n",
    "plt.plot([88.5,105],[54.15,54.15],color=\"black\")\n",
    "\n",
    "#Left 6-yard Box\n",
    "plt.plot([0,5.5],[43.15,43.15],color=\"black\")\n",
    "plt.plot([5.5,5.5],[24.85,43.15],color=\"black\")\n",
    "plt.plot([0,5.5],[24.85,24.85],color=\"black\")\n",
    "\n",
    "#Right 6-yard Box\n",
    "plt.plot([105,99.5],[43.15,43.15],color=\"black\")\n",
    "plt.plot([99.5,99.5],[24.85,43.15],color=\"black\")\n",
    "plt.plot([99.5,105],[24.85,24.85],color=\"black\")\n",
    "\n",
    "#Prepare Circles\n",
    "centreCircle = plt.Circle((52.5,34),9.15,color=\"black\",fill=False)\n",
    "centreSpot = plt.Circle((52.5,34),0.8,color=\"black\")\n",
    "leftPenSpot = plt.Circle((11,34),0.8,color=\"black\")\n",
    "rightPenSpot = plt.Circle((94,34),0.8,color=\"black\")\n",
    "\n",
    "#Plot point\n",
    "SpotDestination = plt.Circle((88.935,20.196),0.8,color=\"pink\")\n",
    "SpotOrigin = plt.Circle((92.61,8.908),0.8,color=\"pink\")\n",
    "\n",
    "#Draw Circles\n",
    "ax.add_patch(centreCircle)\n",
    "ax.add_patch(centreSpot)\n",
    "ax.add_patch(leftPenSpot)\n",
    "ax.add_patch(rightPenSpot)\n",
    "#ax.add_patch(SpotDestination)\n",
    "#ax.add_patch(SpotOrigin)\n",
    "\n",
    "#Prepare Arcs\n",
    "leftArc = Arc((11,34),height=18.3,width=18.3,angle=0,theta1=310,theta2=50,color=\"black\")\n",
    "rightArc = Arc((94,34),height=18.3,width=18.3,angle=0,theta1=130,theta2=230,color=\"black\")\n",
    "\n",
    "#Draw Arcs\n",
    "ax.add_patch(leftArc)\n",
    "ax.add_patch(rightArc)\n",
    "\n",
    "#Pass Data\n",
    "for i in range(len(data)):\n",
    "    plt.plot([(data[\"x_origin\"][i]),(data[\"x_destination\"][i])],\n",
    "             [(data[\"y_origin\"][i]),(data[\"y_destination\"][i])], \n",
    "             color=\"blue\")\n",
    "    \n",
    "    plt.plot((data[\"x_origin\"][i]),(data[\"y_origin\"][i]),\"o\", color=\"green\")\n",
    "    plt.plot((data[\"x_destination\"][i]),(data[\"y_destination\"][i]),\"o\", color=\"pink\")\n",
    "    \n",
    "#Tidy Axes\n",
    "plt.axis('on')\n",
    "\n",
    "#Display Pitch\n",
    "plt.show()"
   ]
  },
  {
   "cell_type": "code",
   "execution_count": null,
   "metadata": {},
   "outputs": [],
   "source": []
  },
  {
   "cell_type": "code",
   "execution_count": null,
   "metadata": {},
   "outputs": [],
   "source": []
  }
 ],
 "metadata": {
  "kernelspec": {
   "display_name": "Python 3",
   "language": "python",
   "name": "python3"
  },
  "language_info": {
   "codemirror_mode": {
    "name": "ipython",
    "version": 3
   },
   "file_extension": ".py",
   "mimetype": "text/x-python",
   "name": "python",
   "nbconvert_exporter": "python",
   "pygments_lexer": "ipython3",
   "version": "3.6.4"
  }
 },
 "nbformat": 4,
 "nbformat_minor": 2
}
