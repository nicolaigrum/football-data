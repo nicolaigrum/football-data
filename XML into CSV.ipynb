{
 "cells": [
  {
   "cell_type": "code",
   "execution_count": 1,
   "metadata": {},
   "outputs": [],
   "source": [
    "import csv\n",
    "import xml.etree.ElementTree as et\n",
    "import numpy as np\n",
    "import pandas as pd\n",
    "from datetime import datetime as dt"
   ]
  },
  {
   "cell_type": "code",
   "execution_count": 2,
   "metadata": {},
   "outputs": [],
   "source": [
    "tree = et.ElementTree(file = \"f24_new.xml\")\n",
    "gameFile = tree.getroot()"
   ]
  },
  {
   "cell_type": "code",
   "execution_count": 3,
   "metadata": {
    "scrolled": true
   },
   "outputs": [
    {
     "name": "stdout",
     "output_type": "stream",
     "text": [
      "FC København vs Silkeborg IF\n"
     ]
    }
   ],
   "source": [
    "#Print a string with the two teams, using %s and the attrib to dynamically fill the string\n",
    "print (\"{} vs {}\".format(gameFile[0].attrib[\"home_team_name\"], gameFile[0].attrib[\"away_team_name\"]))"
   ]
  },
  {
   "cell_type": "code",
   "execution_count": 4,
   "metadata": {},
   "outputs": [
    {
     "name": "stdout",
     "output_type": "stream",
     "text": [
      "FC København vs Silkeborg IF \n",
      "Score: 4 - 2\n"
     ]
    }
   ],
   "source": [
    "#Print a string with the two teams, using %s and the attrib to dynamically fill the string\n",
    "print (\"{} vs {} \\nScore: {} - {}\".format(gameFile[0].attrib[\"home_team_name\"], gameFile[0].attrib[\"away_team_name\"],\n",
    "                                       gameFile[0].attrib[\"home_score\"], gameFile[0].attrib[\"away_score\"], ))"
   ]
  },
  {
   "cell_type": "code",
   "execution_count": 5,
   "metadata": {},
   "outputs": [
    {
     "data": {
      "text/plain": [
       "{'event_id': '1',\n",
       " 'id': '2153299987',\n",
       " 'last_modified': '2019-09-28T16:30:02',\n",
       " 'min': '0',\n",
       " 'outcome': '1',\n",
       " 'period_id': '16',\n",
       " 'sec': '0',\n",
       " 'team_id': '418',\n",
       " 'timestamp': '2019-09-28T15:12:42.953',\n",
       " 'type_id': '34',\n",
       " 'version': '1569684602204',\n",
       " 'x': '0.0',\n",
       " 'y': '0.0'}"
      ]
     },
     "execution_count": 5,
     "metadata": {},
     "output_type": "execute_result"
    }
   ],
   "source": [
    "#Print attributes for <EVENT>\n",
    "gameFile[0][0].attrib"
   ]
  },
  {
   "cell_type": "code",
   "execution_count": 6,
   "metadata": {},
   "outputs": [
    {
     "data": {
      "text/plain": [
       "{'id': '2176906749',\n",
       " 'qualifier_id': '227',\n",
       " 'value': '0, 0, 0, 0, 0, 0, 0, 0, 0, 0, 0, 0, 0, 0, 0, 0, 0, 0'}"
      ]
     },
     "execution_count": 6,
     "metadata": {},
     "output_type": "execute_result"
    }
   ],
   "source": [
    "#Print attributes for <EVENT QUALIFIERS>\n",
    "gameFile[0][0][0].attrib"
   ]
  },
  {
   "cell_type": "code",
   "execution_count": 7,
   "metadata": {},
   "outputs": [
    {
     "name": "stdout",
     "output_type": "stream",
     "text": [
      "{'569': 'FC København', '418': 'Silkeborg IF'}\n"
     ]
    }
   ],
   "source": [
    "#Making TEAM-ID into TEAM-NAME\n",
    "team_dict = {gameFile[0].attrib[\"home_team_id\"]: gameFile[0].attrib[\"home_team_name\"],\n",
    "            gameFile[0].attrib[\"away_team_id\"]: gameFile[0].attrib[\"away_team_name\"]}\n",
    "\n",
    "\n",
    "print(team_dict)"
   ]
  },
  {
   "cell_type": "code",
   "execution_count": 8,
   "metadata": {},
   "outputs": [],
   "source": [
    "#Create empty lists for the 8 columns we're collecting data for (PASSING)\n",
    "x_origin = []\n",
    "y_origin = []\n",
    "x_destination = []\n",
    "y_destination = []\n",
    "outcome = []\n",
    "minute = []\n",
    "half = []\n",
    "team = []"
   ]
  },
  {
   "cell_type": "code",
   "execution_count": 9,
   "metadata": {},
   "outputs": [],
   "source": [
    "for game in gameFile:\n",
    "    for event in game:\n",
    "        if event.attrib.get(\"type_id\") == '1':\n",
    "            x_origin.append(event.attrib.get(\"x\"))\n",
    "            y_origin.append(event.attrib.get(\"y\"))\n",
    "            outcome.append(event.attrib.get(\"outcome\"))\n",
    "            minute.append(event.attrib.get(\"min\"))\n",
    "            half.append(event.attrib.get(\"period_id\"))\n",
    "            team.append(team_dict[event.attrib.get(\"team_id\")])\n",
    "            for qualifier in event:\n",
    "                if qualifier.attrib.get(\"qualifier_id\") == \"140\":\n",
    "                    x_destination.append(qualifier.attrib.get(\"value\"))\n",
    "                if qualifier.attrib.get(\"qualifier_id\") == \"141\":\n",
    "                    y_destination.append(qualifier.attrib.get(\"value\"))"
   ]
  },
  {
   "cell_type": "code",
   "execution_count": 10,
   "metadata": {},
   "outputs": [
    {
     "name": "stdout",
     "output_type": "stream",
     "text": [
      "The list is 1150 long and the 43rd entry is 3\n"
     ]
    }
   ],
   "source": [
    "print(\"The list is \" + str(len(minute)) + \" long and the 43rd entry is \" + minute[42])"
   ]
  },
  {
   "cell_type": "code",
   "execution_count": 11,
   "metadata": {},
   "outputs": [
    {
     "name": "stdout",
     "output_type": "stream",
     "text": [
      "69.9 100.0 59.6 89.0 1\n"
     ]
    }
   ],
   "source": [
    "print(x_origin[6],y_origin[6],x_destination[6],y_destination[6],outcome[6])"
   ]
  },
  {
   "cell_type": "code",
   "execution_count": 12,
   "metadata": {},
   "outputs": [
    {
     "data": {
      "text/html": [
       "<div>\n",
       "<style scoped>\n",
       "    .dataframe tbody tr th:only-of-type {\n",
       "        vertical-align: middle;\n",
       "    }\n",
       "\n",
       "    .dataframe tbody tr th {\n",
       "        vertical-align: top;\n",
       "    }\n",
       "\n",
       "    .dataframe thead th {\n",
       "        text-align: right;\n",
       "    }\n",
       "</style>\n",
       "<table border=\"1\" class=\"dataframe\">\n",
       "  <thead>\n",
       "    <tr style=\"text-align: right;\">\n",
       "      <th></th>\n",
       "      <th>team</th>\n",
       "      <th>half</th>\n",
       "      <th>min</th>\n",
       "      <th>x_origin</th>\n",
       "      <th>y_origin</th>\n",
       "      <th>x_destination</th>\n",
       "      <th>y_destination</th>\n",
       "      <th>outcome</th>\n",
       "    </tr>\n",
       "  </thead>\n",
       "  <tbody>\n",
       "    <tr>\n",
       "      <th>0</th>\n",
       "      <td>Silkeborg IF</td>\n",
       "      <td>1</td>\n",
       "      <td>0</td>\n",
       "      <td>50.0</td>\n",
       "      <td>49.9</td>\n",
       "      <td>47.3</td>\n",
       "      <td>50.5</td>\n",
       "      <td>1</td>\n",
       "    </tr>\n",
       "    <tr>\n",
       "      <th>1</th>\n",
       "      <td>Silkeborg IF</td>\n",
       "      <td>1</td>\n",
       "      <td>0</td>\n",
       "      <td>47.2</td>\n",
       "      <td>49.9</td>\n",
       "      <td>42.4</td>\n",
       "      <td>36.0</td>\n",
       "      <td>1</td>\n",
       "    </tr>\n",
       "    <tr>\n",
       "      <th>2</th>\n",
       "      <td>Silkeborg IF</td>\n",
       "      <td>1</td>\n",
       "      <td>0</td>\n",
       "      <td>42.0</td>\n",
       "      <td>28.8</td>\n",
       "      <td>45.0</td>\n",
       "      <td>4.3</td>\n",
       "      <td>1</td>\n",
       "    </tr>\n",
       "    <tr>\n",
       "      <th>3</th>\n",
       "      <td>Silkeborg IF</td>\n",
       "      <td>1</td>\n",
       "      <td>0</td>\n",
       "      <td>40.0</td>\n",
       "      <td>7.5</td>\n",
       "      <td>25.5</td>\n",
       "      <td>21.6</td>\n",
       "      <td>1</td>\n",
       "    </tr>\n",
       "    <tr>\n",
       "      <th>4</th>\n",
       "      <td>Silkeborg IF</td>\n",
       "      <td>1</td>\n",
       "      <td>0</td>\n",
       "      <td>22.7</td>\n",
       "      <td>25.1</td>\n",
       "      <td>7.8</td>\n",
       "      <td>47.3</td>\n",
       "      <td>1</td>\n",
       "    </tr>\n",
       "  </tbody>\n",
       "</table>\n",
       "</div>"
      ],
      "text/plain": [
       "           team half min x_origin y_origin x_destination y_destination outcome\n",
       "0  Silkeborg IF    1   0     50.0     49.9          47.3          50.5       1\n",
       "1  Silkeborg IF    1   0     47.2     49.9          42.4          36.0       1\n",
       "2  Silkeborg IF    1   0     42.0     28.8          45.0           4.3       1\n",
       "3  Silkeborg IF    1   0     40.0      7.5          25.5          21.6       1\n",
       "4  Silkeborg IF    1   0     22.7     25.1           7.8          47.3       1"
      ]
     },
     "execution_count": 12,
     "metadata": {},
     "output_type": "execute_result"
    }
   ],
   "source": [
    "#Create a list of our 8 columns/lists\n",
    "column_titles = [\"team\", \"half\", \"min\", \"x_origin\", \"y_origin\", \"x_destination\", \"y_destination\", \"outcome\"]\n",
    "            \n",
    "#Use pd.DataFrame to create our table, assign the data in the order of our columns and give it the column titles above\n",
    "final_table = pd.DataFrame(data=[team, half, minute, x_origin, y_origin, x_destination, y_destination, outcome], index=column_titles)\n",
    "\n",
    "#Transpose, or flip, the table. Otherwise, our table will run from left to right, rather than top to bottom\n",
    "final_table = final_table.T\n",
    "\n",
    "#Show us the top 5 rows of the table\n",
    "final_table.head()"
   ]
  },
  {
   "cell_type": "code",
   "execution_count": 13,
   "metadata": {},
   "outputs": [],
   "source": [
    "#Make to floats\n",
    "\n",
    "#Making the data match the field size of 105m x 68m\n",
    "final_table['x_origin'] = (final_table['x_origin'].astype('float64'))/100*105\n",
    "final_table['y_origin'] = (final_table['y_origin'].astype('float64'))/100*68\n",
    "final_table['x_destination'] = (final_table['x_destination'].astype('float64'))/100*105\n",
    "final_table['y_destination'] = (final_table['y_destination'].astype('float64'))/100*68"
   ]
  },
  {
   "cell_type": "code",
   "execution_count": 14,
   "metadata": {},
   "outputs": [
    {
     "data": {
      "text/html": [
       "<div>\n",
       "<style scoped>\n",
       "    .dataframe tbody tr th:only-of-type {\n",
       "        vertical-align: middle;\n",
       "    }\n",
       "\n",
       "    .dataframe tbody tr th {\n",
       "        vertical-align: top;\n",
       "    }\n",
       "\n",
       "    .dataframe thead th {\n",
       "        text-align: right;\n",
       "    }\n",
       "</style>\n",
       "<table border=\"1\" class=\"dataframe\">\n",
       "  <thead>\n",
       "    <tr style=\"text-align: right;\">\n",
       "      <th></th>\n",
       "      <th>team</th>\n",
       "      <th>half</th>\n",
       "      <th>min</th>\n",
       "      <th>x_origin</th>\n",
       "      <th>y_origin</th>\n",
       "      <th>x_destination</th>\n",
       "      <th>y_destination</th>\n",
       "      <th>outcome</th>\n",
       "    </tr>\n",
       "  </thead>\n",
       "  <tbody>\n",
       "    <tr>\n",
       "      <th>0</th>\n",
       "      <td>Silkeborg IF</td>\n",
       "      <td>1</td>\n",
       "      <td>0</td>\n",
       "      <td>52.500</td>\n",
       "      <td>33.932</td>\n",
       "      <td>49.665</td>\n",
       "      <td>34.340</td>\n",
       "      <td>1</td>\n",
       "    </tr>\n",
       "    <tr>\n",
       "      <th>1</th>\n",
       "      <td>Silkeborg IF</td>\n",
       "      <td>1</td>\n",
       "      <td>0</td>\n",
       "      <td>49.560</td>\n",
       "      <td>33.932</td>\n",
       "      <td>44.520</td>\n",
       "      <td>24.480</td>\n",
       "      <td>1</td>\n",
       "    </tr>\n",
       "    <tr>\n",
       "      <th>2</th>\n",
       "      <td>Silkeborg IF</td>\n",
       "      <td>1</td>\n",
       "      <td>0</td>\n",
       "      <td>44.100</td>\n",
       "      <td>19.584</td>\n",
       "      <td>47.250</td>\n",
       "      <td>2.924</td>\n",
       "      <td>1</td>\n",
       "    </tr>\n",
       "    <tr>\n",
       "      <th>3</th>\n",
       "      <td>Silkeborg IF</td>\n",
       "      <td>1</td>\n",
       "      <td>0</td>\n",
       "      <td>42.000</td>\n",
       "      <td>5.100</td>\n",
       "      <td>26.775</td>\n",
       "      <td>14.688</td>\n",
       "      <td>1</td>\n",
       "    </tr>\n",
       "    <tr>\n",
       "      <th>4</th>\n",
       "      <td>Silkeborg IF</td>\n",
       "      <td>1</td>\n",
       "      <td>0</td>\n",
       "      <td>23.835</td>\n",
       "      <td>17.068</td>\n",
       "      <td>8.190</td>\n",
       "      <td>32.164</td>\n",
       "      <td>1</td>\n",
       "    </tr>\n",
       "  </tbody>\n",
       "</table>\n",
       "</div>"
      ],
      "text/plain": [
       "           team half min  x_origin  y_origin  x_destination  y_destination  \\\n",
       "0  Silkeborg IF    1   0    52.500    33.932         49.665         34.340   \n",
       "1  Silkeborg IF    1   0    49.560    33.932         44.520         24.480   \n",
       "2  Silkeborg IF    1   0    44.100    19.584         47.250          2.924   \n",
       "3  Silkeborg IF    1   0    42.000     5.100         26.775         14.688   \n",
       "4  Silkeborg IF    1   0    23.835    17.068          8.190         32.164   \n",
       "\n",
       "  outcome  \n",
       "0       1  \n",
       "1       1  \n",
       "2       1  \n",
       "3       1  \n",
       "4       1  "
      ]
     },
     "execution_count": 14,
     "metadata": {},
     "output_type": "execute_result"
    }
   ],
   "source": [
    "#Show us the top 5 rows of the table\n",
    "final_table.head()"
   ]
  },
  {
   "cell_type": "code",
   "execution_count": 15,
   "metadata": {},
   "outputs": [],
   "source": [
    "final_table.to_csv(\"pass_data.csv\", index=False)"
   ]
  }
 ],
 "metadata": {
  "kernelspec": {
   "display_name": "Python 3",
   "language": "python",
   "name": "python3"
  },
  "language_info": {
   "codemirror_mode": {
    "name": "ipython",
    "version": 3
   },
   "file_extension": ".py",
   "mimetype": "text/x-python",
   "name": "python",
   "nbconvert_exporter": "python",
   "pygments_lexer": "ipython3",
   "version": "3.6.4"
  }
 },
 "nbformat": 4,
 "nbformat_minor": 2
}
